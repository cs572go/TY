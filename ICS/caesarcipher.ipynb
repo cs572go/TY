{
  "nbformat": 4,
  "nbformat_minor": 0,
  "metadata": {
    "colab": {
      "provenance": [],
      "collapsed_sections": []
    },
    "kernelspec": {
      "name": "python3",
      "display_name": "Python 3"
    },
    "language_info": {
      "name": "python"
    }
  },
  "cells": [
    {
      "cell_type": "code",
      "execution_count": null,
      "metadata": {
        "id": "VIXnNcZ3yzOb"
      },
      "outputs": [],
      "source": [
        "def ciphergenerator():\n",
        "    print(\"Enter plain text: \")\n",
        "    input_text = str(input())\n",
        "    print(\"Enter key: \")\n",
        "    key = int(input())\n",
        "    \n",
        "    output_text= \"\"\n",
        "    for i in range(len(input_text)):\n",
        "        letter = input_text[i]\n",
        "        if(letter.islower()):\n",
        "            # ascii of a is 97\n",
        "            # convert char to ascii, do math, convert back to char, append to string\n",
        "            output_text += chr((ord(letter)+key-97)%26+97)\n",
        "        elif(letter.isupper()):\n",
        "            # ascii of A is 65\n",
        "            # convert char to ascii, do math, convert back to char, append to string\n",
        "            output_text += chr((ord(letter)+key-65)%26+65)\n",
        "        elif(ord(letter)==32):\n",
        "            # ascii of space is 32\n",
        "            # convert char to ascii, do math, convert back to char, append to string\n",
        "            output_text += \" \"\n",
        "        else:\n",
        "            output_text += \"\"\n",
        "    \n",
        "    print(\"Cipher text: \")\n",
        "    print(output_text)"
      ]
    },
    {
      "cell_type": "code",
      "source": [
        "def cipherdecoder():\n",
        "    print(\"Enter cipher text: \")\n",
        "    input_text = str(input())\n",
        "    print(\"Enter key: \")\n",
        "    key = int(input())\n",
        "    \n",
        "    output_text= \"\"\n",
        "    for i in range(len(input_text)):\n",
        "        letter = input_text[i]\n",
        "        if(letter.islower()):\n",
        "            # ascii of a is 97\n",
        "            # convert char to ascii, do math, convert back to char, append to string\n",
        "            output_text += chr((ord(letter)-key-97)%26+97)\n",
        "        elif(letter.isupper()):\n",
        "            # ascii of A is 65\n",
        "            # convert char to ascii, do math, convert back to char, append to string\n",
        "            output_text += chr((ord(letter)-key-65)%26+65)\n",
        "        elif(ord(letter)==32):\n",
        "            # ascii of space is 32\n",
        "            # convert char to ascii, do math, convert back to char, append to string\n",
        "            output_text += \" \"\n",
        "        else:\n",
        "            output_text += \"\"\n",
        "    \n",
        "    print(\"Plain text: \")\n",
        "    print(output_text)"
      ],
      "metadata": {
        "id": "uWAOABn2zOrM"
      },
      "execution_count": null,
      "outputs": []
    },
    {
      "cell_type": "code",
      "source": [
        "def ciphergenerator_basic():\n",
        "    print(\"Enter input_text: \")\n",
        "    input_text=str(input())\n",
        "    print(\"Enter key: \")\n",
        "    key = int(input())\n",
        "    \n",
        "    output_text= \"\"\n",
        "    for i in range(len(input_text)):\n",
        "        letter = input_text[i]\n",
        "        if(i%key==0):\n",
        "            if(letter.islower()):\n",
        "                output_text+=letter.upper()\n",
        "            elif(letter.isupper()):\n",
        "                output_text+=letter.lower()\n",
        "        else:\n",
        "            output_text += letter\n",
        "\n",
        "    print(\"Output text: \")\n",
        "    print(output_text)"
      ],
      "metadata": {
        "id": "9fCAamIQ67S9"
      },
      "execution_count": null,
      "outputs": []
    },
    {
      "cell_type": "code",
      "source": [
        "choice=-1\n",
        "print(\"----Cipher Stuff----\")\n",
        "while(choice!=0):\n",
        "    print(\"Enter your choice\")\n",
        "    print(\"1. Encode Basic \")\n",
        "    print(\"2. Decode Basic\")\n",
        "    print(\"3. Encode\")\n",
        "    print(\"4. Decode\")\n",
        "    print(\"0. Exit\")\n",
        "    choice=int(input())\n",
        "\n",
        "    if(choice==1):\n",
        "        ciphergenerator_basic()\n",
        "    elif(choice==2):\n",
        "        ciphergenerator_basic()\n",
        "    elif(choice==3):\n",
        "        ciphergenerator()\n",
        "    elif(choice==4):\n",
        "        cipherdecoder()\n",
        "    elif(choice==0):\n",
        "        exit()\n",
        "    else:\n",
        "        break"
      ],
      "metadata": {
        "colab": {
          "base_uri": "https://localhost:8080/"
        },
        "id": "Ar_O9kp930dd",
        "outputId": "07fd1dd8-9897-4534-9dbd-6a639fd5d75f"
      },
      "execution_count": null,
      "outputs": [
        {
          "name": "stdout",
          "output_type": "stream",
          "text": [
            "----Cipher Stuff----\n",
            "Enter your choice\n",
            "1. Encode Basic \n",
            "2. Decode Basic\n",
            "3. Encode\n",
            "4. Decode\n",
            "0. Exit\n",
            "1\n",
            "Enter input_text: \n",
            "hEllo\n",
            "Enter key: \n",
            "2\n",
            "Output text: \n",
            "HELlO\n",
            "Enter your choice\n",
            "1. Encode Basic \n",
            "2. Decode Basic\n",
            "3. Encode\n",
            "4. Decode\n",
            "0. Exit\n",
            "2\n",
            "Enter input_text: \n",
            "HELlo\n",
            "Enter key: \n",
            "2\n",
            "Output text: \n",
            "hEllO\n",
            "Enter your choice\n",
            "1. Encode Basic \n",
            "2. Decode Basic\n",
            "3. Encode\n",
            "4. Decode\n",
            "0. Exit\n",
            "3\n",
            "Enter plain text: \n",
            "Joe biden\n",
            "Enter key: \n",
            "2\n",
            "Cipher text: \n",
            "Lqg dkfgp\n",
            "Enter your choice\n",
            "1. Encode Basic \n",
            "2. Decode Basic\n",
            "3. Encode\n",
            "4. Decode\n",
            "0. Exit\n",
            "4\n",
            "Enter cipher text: \n",
            "Lqg dkfgp\n",
            "Enter key: \n",
            "2\n",
            "Plain text: \n",
            "Joe biden\n",
            "Enter your choice\n",
            "1. Encode Basic \n",
            "2. Decode Basic\n",
            "3. Encode\n",
            "4. Decode\n",
            "0. Exit\n",
            "0\n"
          ]
        }
      ]
    },
    {
      "cell_type": "code",
      "source": [],
      "metadata": {
        "id": "cBpI_mj5_u9E"
      },
      "execution_count": null,
      "outputs": []
    }
  ]
}