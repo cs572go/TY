{
  "nbformat": 4,
  "nbformat_minor": 0,
  "metadata": {
    "colab": {
      "provenance": []
    },
    "kernelspec": {
      "name": "python3",
      "display_name": "Python 3"
    },
    "language_info": {
      "name": "python"
    }
  },
  "cells": [
    {
      "cell_type": "markdown",
      "source": [
        "#Key Generation steps\n",
        "\n",
        "Choose a L-bit prime p, such that it satifies the following\n",
        "\n",
        "512 <= L <= 1024\n",
        "\n",
        "64 divides L\n",
        "\n",
        "p-1 has a 160-bit prime factor, eg. q.\n",
        "\n",
        "Choose a g that belongs to group Zp* such that order of g is q.\n",
        "\n",
        "Choose a number uniformly at random from set {2,3,...,q-1}.\n",
        "\n",
        "Compute h = g^a mod p. (using square and multiply)\n",
        "\n",
        "Verification Key = (p,q,g,h)\n",
        "\n",
        "Signing key = a\n",
        "\n",
        "#Signing process The input to this algorithm is a message-file F, verification key and signing key. The output is the signature on file in signature.txt.\n",
        "\n",
        "Choose a random element r in 1 <= r <= q-1\n",
        "Compute C1 = ( g^r mod p) mod q. (using square and multiply)\n",
        "Compute C2 = (int(SHA1(F)) + aC1)r^-1 mod q. (r^-1 using extended Euclidean algorithm)\n",
        "If C1=0 or C2=0, a new random value of r should be chosen and C1, C2 to be recomputed.\n",
        "Output (C1, C2) as signature on the file F.\n",
        "#Verification process The input to this algorithm is a message-signature pair (F, (C1, C2)) and the VerKey (p, q, g, h).\n",
        "\n",
        "Compute t1 = int(SHA1(F))C2^-1 mod q. (C2^-1 using extended Euclidean algorithm)\n",
        "Compute t1 = C1C2^-1 mod q.\n",
        "if (g^t1 * h^t2 mod p) mod q = C1 then output \"valid signature\" else output \"invalid signature\".\n",
        "python version : 3.4.3"
      ],
      "metadata": {
        "id": "SErlJJbZSgVU"
      }
    },
    {
      "cell_type": "code",
      "source": [
        "import rsa\n",
        "\n",
        "# Implementing helper methods to generate private and public keys\n",
        "\n",
        "\n",
        "def generateKeys():\n",
        "    (publicKey, privateKey) = rsa.newkeys(1024)\n",
        "    with open('pub.pem', 'wb') as p:\n",
        "        p.write(publicKey.save_pkcs1('PEM'))\n",
        "    with open('priv.pem', 'wb') as p:\n",
        "        p.write(privateKey.save_pkcs1('PEM'))\n",
        "\n",
        "# Implementing method to load the keys\n",
        "\n",
        "\n",
        "def loadKeys():\n",
        "    with open('pub.pem', 'rb') as p:\n",
        "        publicKey = rsa.PublicKey.load_pkcs1(p.read())\n",
        "    with open('priv.pem', 'rb') as p:\n",
        "        privateKey = rsa.PrivateKey.load_pkcs1(p.read())\n",
        "    return privateKey, publicKey\n",
        "\n",
        "# Implementing the encryption method\n",
        "\n",
        "\n",
        "def encrypt(message, key):\n",
        "    return rsa.encrypt(message.encode('ascii'), key)\n",
        "\n",
        "# Implementing the decryption method\n",
        "\n",
        "\n",
        "def decrypt(ciphertext, key):\n",
        "    try:\n",
        "        return rsa.decrypt(ciphertext, key).decode('ascii')\n",
        "    except:\n",
        "        return False\n",
        "\n",
        "\n",
        "def sign(message, key):\n",
        "    return rsa.sign(message.encode('ascii'), key, 'SHA-1')\n",
        "\n",
        "\n",
        "def verify(message, signature, key):\n",
        "    try:\n",
        "        return rsa.verify(message.encode('ascii'), signature, key) == 'SHA-1'\n",
        "    except:\n",
        "        return False\n",
        "\n",
        "\n",
        "generateKeys()\n",
        "privateKey, publicKey = loadKeys()\n",
        "\n",
        "message = input('Write your message here: ')\n",
        "ciphertext = encrypt(message, publicKey)\n",
        "\n",
        "signature = sign(message, privateKey)\n",
        "\n",
        "text = decrypt(ciphertext, privateKey)\n",
        "\n",
        "print('\\n')\n",
        "\n",
        "print(f'Cipher Text: {ciphertext}')\n",
        "\n",
        "print('\\n')\n",
        "\n",
        "print(f'Signature: {signature}')\n",
        "\n",
        "print('\\n')\n",
        "\n",
        "if text:\n",
        "    print(f'Message Text: {text}')\n",
        "else:\n",
        "    print(f'Unable to decrpyt the message.')\n",
        "\n",
        "print('\\n')\n",
        "\n",
        "if verify(text, signature, publicKey):\n",
        "    print('Successfully verified signature')\n",
        "else:\n",
        "    print('The message signature could not be verified')\n"
      ],
      "metadata": {
        "colab": {
          "base_uri": "https://localhost:8080/"
        },
        "id": "TXp_RAWr-jtA",
        "outputId": "aed7712d-b62d-4151-e170-cab0c345a53c"
      },
      "execution_count": null,
      "outputs": [
        {
          "output_type": "stream",
          "name": "stdout",
          "text": [
            "Write your message here: hi\n",
            "\n",
            "\n",
            "Cipher Text: b'6o\\x9cH\\xdc\\xc0\\xca\\xbf)\\xe6\\xa6\\x86\\x94Y\\xfb\\xea\\x0f\\xad=t_\\xff\\xa8r7\\xed)\\x85\\xd4#\\xca\\x8cD8?\\x83\\xc1W\\xb0\\xc7\\xfeqa\\r\\x18i\\x19uFj\\xcb\\x83\\xc4\\xb4\\x19\\x9dXr9B\\xeb\\x16\\xb8u\\xab\\x8d\\xe22|\\xad~a\\x90\\xe66\\xea\\xec\\x19\\x14h=\\x9a\\x95c\\xda\\x03P\\xd2\\xaf\\xa6\\x03]\\xb3\\xdd\\x0c\\x8aw\\x9a\\xc5j\\xb6Eup\\xf1\\xba]^\\x8d\\x15\\x8c\\xd4\\xc9Z\\xbc+\\x0f\\x85Z\\xf0\\xddX\\xa1B\\xc9 \\xdf\\xcc'\n",
            "\n",
            "\n",
            "Signature: b'p>ce\\xd5\\xb1yK\\x94\\xd7\\x82\\xb6\\x00\\x94M\\x04\\nu\\xcc{.<A\\xb8^\\xa2K\\xca\\n\\x9d\\xf2\\xb9\\x02fr\\x1a.V9\\xd2\\x83\\xa2\\x9e\\xe5\\x87\\xc3\\xf8\\xc8,\\xbc\\xd4K-\\xa85\\xdc\\x8c,\\x80\\xa9BxQ\\xabn3EM\\x00\\x16\\xd7\\xc3K\\xb0n\\xac\\x87\\xd3J\\x81\\x83\\xe5v\\xd3\\xe5\\x15\\\\xo\\xaf\\xc9\\x0f\\xdelS\\x89\\x88F)\\xb4c\\x1d\\xe3\\xd4\\xe5\\xb2\\xd5R\\x88\\xbd\\xca.\\xd4\\x82\\xf5J\\x92V]\\xfa\\xdd\\xef\\xe3KL\\xb1\\xf7\\x83'\n",
            "\n",
            "\n",
            "Message Text: hi\n",
            "\n",
            "\n",
            "Successfully verified signature\n"
          ]
        }
      ]
    },
    {
      "cell_type": "code",
      "source": [],
      "metadata": {
        "id": "chV2Kdu3-rII"
      },
      "execution_count": null,
      "outputs": []
    }
  ]
}